{
  "nbformat": 4,
  "nbformat_minor": 0,
  "metadata": {
    "colab": {
      "private_outputs": true,
      "provenance": [],
      "toc_visible": true,
      "authorship_tag": "ABX9TyP6MrI0PM/uGxdqOfMXH9FG",
      "include_colab_link": true
    },
    "kernelspec": {
      "name": "python3",
      "display_name": "Python 3"
    },
    "language_info": {
      "name": "python"
    }
  },
  "cells": [
    {
      "cell_type": "markdown",
      "metadata": {
        "id": "view-in-github",
        "colab_type": "text"
      },
      "source": [
        "<a href=\"https://colab.research.google.com/github/bonbon8282/studyWith-Koh/blob/main/day230723.ipynb\" target=\"_parent\"><img src=\"https://colab.research.google.com/assets/colab-badge.svg\" alt=\"Open In Colab\"/></a>"
      ]
    },
    {
      "cell_type": "code",
      "execution_count": null,
      "metadata": {
        "id": "tj2D8rKC4odI"
      },
      "outputs": [],
      "source": [
        "import torch\n",
        "from torch import optim"
      ]
    },
    {
      "cell_type": "code",
      "source": [
        "x_train=torch.FloatTensor([[1,2,3],[3,4,5],[6,7,8]])\n",
        "print(x_train)\n",
        "print(type(x_train))\n",
        "print(x_train.shape)\n",
        "print(x_train.dim())"
      ],
      "metadata": {
        "id": "-cpfV5Pl7Gdn"
      },
      "execution_count": null,
      "outputs": []
    },
    {
      "cell_type": "code",
      "source": [
        "b0=torch.tensor(1) # 스칼라\n",
        "b1=torch.tensor([1]) # 1차원 텐서\n",
        "b2=torch.tensor([[1]]) #2차원 텐서\n",
        "b3=torch.tensor([[[1]]])# 3차 원 텐서\n",
        "print(b0.dim(),b1.dim(),b2.dim(),b3.dim())"
      ],
      "metadata": {
        "id": "bOo7Ui9kTCCx"
      },
      "execution_count": null,
      "outputs": []
    },
    {
      "cell_type": "code",
      "source": [
        "y=torch.tensor([1,2,3])\n",
        "print(y)\n",
        "print(y.size())\n",
        "print(y.dim())\n",
        "print(y.shape)"
      ],
      "metadata": {
        "id": "btJ97rHS9e5K"
      },
      "execution_count": null,
      "outputs": []
    },
    {
      "cell_type": "code",
      "source": [
        "W=torch.tensor(3)#/scalar 상수\n",
        "print(W)"
      ],
      "metadata": {
        "id": "fXeWbc149_WZ"
      },
      "execution_count": null,
      "outputs": []
    },
    {
      "cell_type": "code",
      "source": [
        "a=torch.tensor([1])# scalar 상수[]를 안붙인다\n",
        "print(a)\n",
        "print(a.size()) # 메서트면 ()를 붙인다\n",
        "print(a.shape) # 프로퍼티에는 안 붙인다\n"
      ],
      "metadata": {
        "id": "4TzadRgy_xux"
      },
      "execution_count": null,
      "outputs": []
    },
    {
      "cell_type": "code",
      "source": [
        "class Calc: #a와  b라는 프로퍼티와  add() 라는 매써드를 같는 클래스이다\n",
        "  def __init__(self,a,b): # calf의 생성자 메써드\n",
        "    self.a=a   # self.a 의 초기값을 a로 대입\n",
        "    self.b=b #   self.b 의 초기값을 b로 대임\n",
        "  def add(self):  # 반환값이 있는 함수\n",
        "    return self.a+self.b\n",
        "  def inc(self):\n",
        "    self.a+=1 # self.a의 값을 1 증가\n",
        "    self.b+=1 #self.b 의 값을 1 증가\n",
        "c1=Calc(3,4) # 클래스 calc라는 객체C 를 생성.  Calc 는 인간, c1 은 어떤 인간\n",
        "print(type(c1))\n",
        "print(c1.a,c1.b)#객체 c 의 프로퍼티 c.a에 저장된 값을 출력하라\n",
        "print(c1.add()) # 객체 C1의 메썯드 add() 함수를 호출한 결과를 출력하라\n",
        "# 함수 를 메써드 이고, 변수는 프로퍼티 이다\n",
        "c1.inc() # 객체 c1의 메써드 inc() 를 호출\n",
        "print(c1.a,c1.b)"
      ],
      "metadata": {
        "id": "AH2FsdGwCwtN"
      },
      "execution_count": null,
      "outputs": []
    }
  ]
}